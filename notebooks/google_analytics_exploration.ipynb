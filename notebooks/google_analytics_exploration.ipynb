{
 "cells": [
  {
   "cell_type": "code",
   "execution_count": 1,
   "metadata": {},
   "outputs": [],
   "source": [
    "## Importing Libraries\n",
    "import numpy as np # For numerical computing\n",
    "import matplotlib.pyplot as plt # For data visualization\n",
    "import seaborn as sns # For data visualization\n",
    "from sklearn.model_selection import train_test_split # For splitting the data\n",
    "from sklearn.linear_model import LinearRegression # Linear regression algorithm\n",
    "from sklearn.linear_model import LogisticRegression # Logistic regression algorithm\n",
    "import pandas as pd\n",
    "from sklearn.metrics import accuracy_score\n",
    "from sklearn.preprocessing import LabelEncoder\n",
    "from sklearn.preprocessing import MinMaxScaler\n",
    "from sklearn.metrics import mean_squared_error, mean_absolute_error, r2_score\n",
    "from sklearn.model_selection import cross_val_score\n",
    "from sklearn.preprocessing import OneHotEncoder\n",
    "import os"
   ]
  },
  {
   "cell_type": "code",
   "execution_count": 2,
   "metadata": {},
   "outputs": [],
   "source": [
    "df = pd.read_parquet('google_analytics_data_anonymized.parquet')"
   ]
  },
  {
   "cell_type": "code",
   "execution_count": 3,
   "metadata": {},
   "outputs": [
    {
     "data": {
      "text/html": [
       "<div>\n",
       "<style scoped>\n",
       "    .dataframe tbody tr th:only-of-type {\n",
       "        vertical-align: middle;\n",
       "    }\n",
       "\n",
       "    .dataframe tbody tr th {\n",
       "        vertical-align: top;\n",
       "    }\n",
       "\n",
       "    .dataframe thead th {\n",
       "        text-align: right;\n",
       "    }\n",
       "</style>\n",
       "<table border=\"1\" class=\"dataframe\">\n",
       "  <thead>\n",
       "    <tr style=\"text-align: right;\">\n",
       "      <th></th>\n",
       "      <th>query_id</th>\n",
       "      <th>date</th>\n",
       "      <th>client_id</th>\n",
       "      <th>page</th>\n",
       "      <th>searchkeyword</th>\n",
       "      <th>product_id</th>\n",
       "      <th>is_seen</th>\n",
       "      <th>nb_interactions_type1</th>\n",
       "      <th>nb_interactions_type2</th>\n",
       "      <th>interaction_type1</th>\n",
       "      <th>interaction_type2</th>\n",
       "      <th>is_interaction</th>\n",
       "      <th>position</th>\n",
       "    </tr>\n",
       "  </thead>\n",
       "  <tbody>\n",
       "    <tr>\n",
       "      <th>0</th>\n",
       "      <td>9ae42bb0ca</td>\n",
       "      <td>1</td>\n",
       "      <td>790218</td>\n",
       "      <td>1</td>\n",
       "      <td>hublot avec allumage automatique</td>\n",
       "      <td>0b7a94f0</td>\n",
       "      <td>1</td>\n",
       "      <td>0</td>\n",
       "      <td>0</td>\n",
       "      <td>0</td>\n",
       "      <td>0</td>\n",
       "      <td>0</td>\n",
       "      <td>1</td>\n",
       "    </tr>\n",
       "    <tr>\n",
       "      <th>1</th>\n",
       "      <td>9ae42bb0ca</td>\n",
       "      <td>1</td>\n",
       "      <td>790218</td>\n",
       "      <td>1</td>\n",
       "      <td>hublot avec allumage automatique</td>\n",
       "      <td>963872dd</td>\n",
       "      <td>1</td>\n",
       "      <td>0</td>\n",
       "      <td>0</td>\n",
       "      <td>0</td>\n",
       "      <td>0</td>\n",
       "      <td>0</td>\n",
       "      <td>2</td>\n",
       "    </tr>\n",
       "    <tr>\n",
       "      <th>2</th>\n",
       "      <td>9ae42bb0ca</td>\n",
       "      <td>1</td>\n",
       "      <td>790218</td>\n",
       "      <td>1</td>\n",
       "      <td>hublot avec allumage automatique</td>\n",
       "      <td>a85f381a</td>\n",
       "      <td>1</td>\n",
       "      <td>0</td>\n",
       "      <td>0</td>\n",
       "      <td>0</td>\n",
       "      <td>0</td>\n",
       "      <td>0</td>\n",
       "      <td>3</td>\n",
       "    </tr>\n",
       "    <tr>\n",
       "      <th>3</th>\n",
       "      <td>9ae42bb0ca</td>\n",
       "      <td>1</td>\n",
       "      <td>790218</td>\n",
       "      <td>1</td>\n",
       "      <td>hublot avec allumage automatique</td>\n",
       "      <td>7b5c8b46</td>\n",
       "      <td>1</td>\n",
       "      <td>0</td>\n",
       "      <td>0</td>\n",
       "      <td>0</td>\n",
       "      <td>0</td>\n",
       "      <td>0</td>\n",
       "      <td>4</td>\n",
       "    </tr>\n",
       "    <tr>\n",
       "      <th>4</th>\n",
       "      <td>9ae42bb0ca</td>\n",
       "      <td>1</td>\n",
       "      <td>790218</td>\n",
       "      <td>1</td>\n",
       "      <td>hublot avec allumage automatique</td>\n",
       "      <td>1085f20a</td>\n",
       "      <td>1</td>\n",
       "      <td>0</td>\n",
       "      <td>0</td>\n",
       "      <td>0</td>\n",
       "      <td>0</td>\n",
       "      <td>0</td>\n",
       "      <td>5</td>\n",
       "    </tr>\n",
       "  </tbody>\n",
       "</table>\n",
       "</div>"
      ],
      "text/plain": [
       "     query_id  date client_id  page                      searchkeyword  \\\n",
       "0  9ae42bb0ca     1    790218     1  hublot avec allumage automatique    \n",
       "1  9ae42bb0ca     1    790218     1  hublot avec allumage automatique    \n",
       "2  9ae42bb0ca     1    790218     1  hublot avec allumage automatique    \n",
       "3  9ae42bb0ca     1    790218     1  hublot avec allumage automatique    \n",
       "4  9ae42bb0ca     1    790218     1  hublot avec allumage automatique    \n",
       "\n",
       "  product_id  is_seen  nb_interactions_type1  nb_interactions_type2  \\\n",
       "0   0b7a94f0        1                      0                      0   \n",
       "1   963872dd        1                      0                      0   \n",
       "2   a85f381a        1                      0                      0   \n",
       "3   7b5c8b46        1                      0                      0   \n",
       "4   1085f20a        1                      0                      0   \n",
       "\n",
       "   interaction_type1  interaction_type2  is_interaction  position  \n",
       "0                  0                  0               0         1  \n",
       "1                  0                  0               0         2  \n",
       "2                  0                  0               0         3  \n",
       "3                  0                  0               0         4  \n",
       "4                  0                  0               0         5  "
      ]
     },
     "execution_count": 3,
     "metadata": {},
     "output_type": "execute_result"
    }
   ],
   "source": [
    "df.head()"
   ]
  },
  {
   "cell_type": "code",
   "execution_count": 4,
   "metadata": {},
   "outputs": [
    {
     "name": "stdout",
     "output_type": "stream",
     "text": [
      "<class 'pandas.core.frame.DataFrame'>\n",
      "RangeIndex: 5662375 entries, 0 to 5662374\n",
      "Data columns (total 13 columns):\n",
      " #   Column                 Dtype \n",
      "---  ------                 ----- \n",
      " 0   query_id               object\n",
      " 1   date                   int64 \n",
      " 2   client_id              object\n",
      " 3   page                   int64 \n",
      " 4   searchkeyword          object\n",
      " 5   product_id             object\n",
      " 6   is_seen                int64 \n",
      " 7   nb_interactions_type1  int64 \n",
      " 8   nb_interactions_type2  int64 \n",
      " 9   interaction_type1      int64 \n",
      " 10  interaction_type2      int64 \n",
      " 11  is_interaction         int64 \n",
      " 12  position               int64 \n",
      "dtypes: int64(9), object(4)\n",
      "memory usage: 561.6+ MB\n"
     ]
    }
   ],
   "source": [
    "df.info()"
   ]
  },
  {
   "cell_type": "code",
   "execution_count": 5,
   "metadata": {},
   "outputs": [
    {
     "name": "stdout",
     "output_type": "stream",
     "text": [
      "Distribution du nombre de lignes par client_id :\n",
      "6       575\n",
      "7       542\n",
      "8       467\n",
      "9       367\n",
      "14      302\n",
      "       ... \n",
      "4712      1\n",
      "4460      1\n",
      "1027      1\n",
      "2892      1\n",
      "817       1\n",
      "Name: count, Length: 1780, dtype: int64\n"
     ]
    },
    {
     "data": {
      "image/png": "[encoded data removed]",
      "text/plain": [
       "<Figure size 640x480 with 1 Axes>"
      ]
     },
     "metadata": {},
     "output_type": "display_data"
    },
    {
     "data": {
      "text/plain": [
       "<Figure size 1000x600 with 0 Axes>"
      ]
     },
     "metadata": {},
     "output_type": "display_data"
    }
   ],
   "source": [
    "client_counts = df.groupby('client_id').size()\n",
    "\n",
    "# Afficher la distribution du nombre de lignes par client_id\n",
    "distribution = client_counts.value_counts()\n",
    "\n",
    "# Affichage des résultats\n",
    "print(\"Distribution du nombre de lignes par client_id :\")\n",
    "print(distribution)\n",
    "\n",
    "# Visualiser la distribution avec un graphique\n",
    "ax = distribution.plot(kind='bar', color='skyblue', edgecolor='black')\n",
    "# Rotation des labels de l'axe des x pour les rendre lisibles\n",
    "plt.xticks(rotation=45, ha='right')\n",
    "\n",
    "# Ajuster la taille des labels si nécessaire\n",
    "plt.xticks(fontsize=10)\n",
    "\n",
    "# Réduire le nombre de ticks si nécessaire pour améliorer la lisibilité\n",
    "plt.xticks(ticks=range(0, len(distribution), max(1, len(distribution)//10)))\n",
    "\n",
    "# Ajuster la taille de la figure pour donner plus de place aux labels\n",
    "plt.figure(figsize=(10, 6))\n",
    "\n",
    "# S'assurer que tout est bien espacé\n",
    "plt.tight_layout()\n",
    "\n",
    "# Afficher le graphique\n",
    "plt.show()\n"
   ]
  },
  {
   "cell_type": "code",
   "execution_count": 6,
   "metadata": {},
   "outputs": [
    {
     "name": "stdout",
     "output_type": "stream",
     "text": [
      "Nombre d'ID clients uniques dans la table : 23662\n"
     ]
    }
   ],
   "source": [
    "# Compter le nombre d'ID clients distincts\n",
    "num_unique_clients = df['client_id'].nunique()\n",
    "\n",
    "# Afficher le résultat\n",
    "print(f\"Nombre d'ID clients uniques dans la table : {num_unique_clients}\")\n"
   ]
  },
  {
   "cell_type": "code",
   "execution_count": 7,
   "metadata": {},
   "outputs": [
    {
     "name": "stdout",
     "output_type": "stream",
     "text": [
      "Nombre d'ID clients ayant au moins un is_interaction = 1 : 11087\n"
     ]
    }
   ],
   "source": [
    "# Filtrer les lignes où is_interaction == 1\n",
    "clients_with_int = df[df['is_interaction'] == 1]\n",
    "\n",
    "# Compter le nombre d'ID clients distincts ayant au moins un is_seen = 1\n",
    "num_clients_with_int = clients_with_int['client_id'].nunique()\n",
    "\n",
    "# Afficher le résultat\n",
    "print(f\"Nombre d'ID clients ayant au moins un is_interaction = 1 : {num_clients_with_int}\")"
   ]
  },
  {
   "cell_type": "code",
   "execution_count": 9,
   "metadata": {},
   "outputs": [
    {
     "name": "stdout",
     "output_type": "stream",
     "text": [
      "      client_id  total_triplet_count  interaction_triplet_count  \\\n",
      "0        000195                   59                        0.0   \n",
      "1        0002b0                   70                        1.0   \n",
      "2        000973                  130                        1.0   \n",
      "3        0013cd                   84                        2.0   \n",
      "4        0017ab                   18                        0.0   \n",
      "...         ...                  ...                        ...   \n",
      "23657    fff808                   78                        0.0   \n",
      "23658    fff8e3                   15                        0.0   \n",
      "23659    fffb11                   20                        0.0   \n",
      "23660    fffc3d                  103                        0.0   \n",
      "23661    ffff34                   90                        2.0   \n",
      "\n",
      "       no_interaction_triplet_count  \n",
      "0                              59.0  \n",
      "1                              69.0  \n",
      "2                             129.0  \n",
      "3                              82.0  \n",
      "4                              18.0  \n",
      "...                             ...  \n",
      "23657                          78.0  \n",
      "23658                          15.0  \n",
      "23659                          20.0  \n",
      "23660                         103.0  \n",
      "23661                          88.0  \n",
      "\n",
      "[23662 rows x 4 columns]\n",
      "Nombre d'ID clients sans interaction = 1 : 12575\n"
     ]
    }
   ],
   "source": [
    "# Étape 1 : Compter le nombre total de triplets (client_id, date, searchkeyword) pour chaque client_id\n",
    "total_triplets = df.groupby(['client_id', 'date', 'searchkeyword']).size().reset_index(name='total_triplet_count')\n",
    "\n",
    "# Étape 2 : Compter le nombre de triplets avec au moins une interaction (is_interaction = 1) pour chaque client_id\n",
    "interaction_triplets = df[df['is_interaction'] == 1].groupby(['client_id', 'date', 'searchkeyword']).size().reset_index(name='interaction_triplet_count')\n",
    "\n",
    "# Étape 3 : Joindre les deux DataFrames sur les colonnes communes (client_id, date, searchkeyword)\n",
    "result = pd.merge(total_triplets, interaction_triplets, on=['client_id', 'date', 'searchkeyword'], how='left')\n",
    "\n",
    "# Remplir les valeurs manquantes d'interaction_triplet_count par 0 (si aucune interaction pour ce triplet)\n",
    "result['interaction_triplet_count'] = result['interaction_triplet_count'].fillna(0)\n",
    "\n",
    "# Étape 4 : Regrouper par client_id pour obtenir le nombre total de triplets et le nombre de triplets avec au moins une interaction\n",
    "client_summary = result.groupby('client_id').agg(\n",
    "    total_triplet_count=('total_triplet_count', 'sum'),\n",
    "    interaction_triplet_count=('interaction_triplet_count', 'sum')\n",
    ").reset_index()\n",
    "\n",
    "# Étape 5 : Calculer le nombre de triplets sans interaction (total - interaction)\n",
    "client_summary['no_interaction_triplet_count'] = client_summary['total_triplet_count'] - client_summary['interaction_triplet_count']\n",
    "\n",
    "# Afficher le résultat\n",
    "print(client_summary)\n",
    "\n",
    "# Filtrer les clients sans interaction\n",
    "clients_sans_int = client_summary[client_summary['interaction_triplet_count'] == 0]\n",
    "\n",
    "# Compter le nombre d'ID clients distincts ayant au moins un is_seen = 1\n",
    "num_clients_sans_int = clients_sans_int['client_id'].nunique()\n",
    "\n",
    "# Afficher le résultat\n",
    "print(f\"Nombre d'ID clients sans interaction = 1 : {num_clients_sans_int}\")\n"
   ]
  },
  {
   "cell_type": "code",
   "execution_count": 10,
   "metadata": {},
   "outputs": [
    {
     "name": "stdout",
     "output_type": "stream",
     "text": [
      "      client_id  total_triplet_count  interaction_triplet_count  \\\n",
      "0        000195                   59                        0.0   \n",
      "1        0002b0                   70                        1.0   \n",
      "2        000973                  130                        1.0   \n",
      "3        0013cd                   84                        2.0   \n",
      "4        0017ab                   18                        0.0   \n",
      "...         ...                  ...                        ...   \n",
      "23657    fff808                   78                        0.0   \n",
      "23658    fff8e3                   15                        0.0   \n",
      "23659    fffb11                   20                        0.0   \n",
      "23660    fffc3d                  103                        0.0   \n",
      "23661    ffff34                   90                        2.0   \n",
      "\n",
      "       no_interaction_triplet_count  interaction_rate  \n",
      "0                              59.0          0.000000  \n",
      "1                              69.0          0.014286  \n",
      "2                             129.0          0.007692  \n",
      "3                              82.0          0.023810  \n",
      "4                              18.0          0.000000  \n",
      "...                             ...               ...  \n",
      "23657                          78.0          0.000000  \n",
      "23658                          15.0          0.000000  \n",
      "23659                          20.0          0.000000  \n",
      "23660                         103.0          0.000000  \n",
      "23661                          88.0          0.022222  \n",
      "\n",
      "[23662 rows x 5 columns]\n"
     ]
    }
   ],
   "source": [
    "# Étape 6 : Calculer le taux d'interaction (interaction_rate)\n",
    "client_summary['interaction_rate'] = client_summary['interaction_triplet_count'] / client_summary['total_triplet_count']\n",
    "\n",
    "# Afficher le DataFrame avec interaction_rate\n",
    "print(client_summary)"
   ]
  },
  {
   "cell_type": "code",
   "execution_count": 11,
   "metadata": {},
   "outputs": [
    {
     "data": {
      "image/png": "[encoded data removed]",
      "text/plain": [
       "<Figure size 800x600 with 1 Axes>"
      ]
     },
     "metadata": {},
     "output_type": "display_data"
    }
   ],
   "source": [
    "plt.figure(figsize=(8, 6))\n",
    "plt.hist(client_summary['interaction_rate'], bins=10000, edgecolor='black', color='skyblue')\n",
    "\n",
    "# Ajouter des titres et des labels\n",
    "plt.title('Distribution du taux d\\'interaction (interaction_rate)')\n",
    "plt.xlabel('Taux d\\'interaction')\n",
    "plt.ylabel('Fréquence')\n",
    "\n",
    "# Zoom sur l'axe des abscisses (intervalle 0-0,4)\n",
    "plt.xlim(0, 0.1)\n",
    "\n",
    "# Afficher le graphique\n",
    "plt.tight_layout()\n",
    "plt.show()\n"
   ]
  },
  {
   "cell_type": "code",
   "execution_count": 12,
   "metadata": {},
   "outputs": [
    {
     "name": "stdout",
     "output_type": "stream",
     "text": [
      "Nombre d'ID clients ayant interaction_rate = 0 : 12575\n"
     ]
    }
   ],
   "source": [
    "# Filtrer les clients ayant un interaction_rate = 0\n",
    "clients_with_no_interaction_rate = client_summary[client_summary['interaction_rate'] == 0]\n",
    "\n",
    "# Compter le nombre d'ID clients distincts ayant interaction_rate = 0\n",
    "num_clients_with_no_interaction_rate = clients_with_no_interaction_rate['client_id'].nunique()\n",
    "\n",
    "# Afficher le résultat\n",
    "print(f\"Nombre d'ID clients ayant interaction_rate = 0 : {num_clients_with_no_interaction_rate}\")\n"
   ]
  },
  {
   "cell_type": "code",
   "execution_count": 14,
   "metadata": {},
   "outputs": [
    {
     "name": "stdout",
     "output_type": "stream",
     "text": [
      "      client_id  avg_products_seen\n",
      "0        000195          14.666667\n",
      "1        0002b0           7.111111\n",
      "2        000973           8.133333\n",
      "3        0013cd           7.625000\n",
      "4        0017ab           6.000000\n",
      "...         ...                ...\n",
      "23657    fff808           8.666667\n",
      "23658    fff8e3           7.500000\n",
      "23659    fffb11          10.000000\n",
      "23660    fffc3d           8.000000\n",
      "23661    ffff34           8.400000\n",
      "\n",
      "[23662 rows x 2 columns]\n"
     ]
    }
   ],
   "source": [
    "# Étape 1 : Compter le nombre de product_id distincts où is_seen == 1 pour chaque triplet\n",
    "product_seen_counts = df[df['is_seen'] == 1].groupby(['client_id', 'date', 'searchkeyword'])['product_id'].nunique().reset_index(name='distinct_products_seen')\n",
    "\n",
    "# Étape 2 : Calculer la moyenne du nombre de produits vus par client_id\n",
    "average_products_seen_per_client = product_seen_counts.groupby('client_id')['distinct_products_seen'].mean().reset_index(name='avg_products_seen')\n",
    "\n",
    "# Afficher le résultat\n",
    "print(average_products_seen_per_client)\n"
   ]
  },
  {
   "cell_type": "code",
   "execution_count": 15,
   "metadata": {},
   "outputs": [
    {
     "data": {
      "image/png": "[encoded data removed]",
      "text/plain": [
       "<Figure size 800x600 with 1 Axes>"
      ]
     },
     "metadata": {},
     "output_type": "display_data"
    }
   ],
   "source": [
    "import matplotlib.pyplot as plt\n",
    "\n",
    "# Afficher la distribution de la moyenne des produits vus par client_id\n",
    "plt.figure(figsize=(8, 6))\n",
    "plt.hist(average_products_seen_per_client['avg_products_seen'], bins=10, edgecolor='black', color='skyblue')\n",
    "\n",
    "# Ajouter des titres et des labels\n",
    "plt.title('Distribution de la moyenne des produits vus par client_id')\n",
    "plt.xlabel('Moyenne des produits vus')\n",
    "plt.ylabel('Fréquence')\n",
    "\n",
    "# Afficher le graphique\n",
    "plt.tight_layout()\n",
    "plt.show()\n"
   ]
  },
  {
   "cell_type": "code",
   "execution_count": 24,
   "metadata": {},
   "outputs": [
    {
     "data": {
      "image/png": "[encoded data removed]",
      "text/plain": [
       "<Figure size 800x600 with 1 Axes>"
      ]
     },
     "metadata": {},
     "output_type": "display_data"
    }
   ],
   "source": [
    "is_seen_counts = df['is_seen'].value_counts()\n",
    "\n",
    "# Afficher la distribution avec un graphique à barres\n",
    "plt.figure(figsize=(8, 6))\n",
    "is_seen_counts.plot(kind='bar', color='skyblue', edgecolor='black')\n",
    "\n",
    "# Ajouter des titres et des labels\n",
    "plt.title('Distribution des valeurs de is_seen')\n",
    "plt.xlabel('Valeur de is_seen')\n",
    "plt.ylabel('Fréquence')\n",
    "\n",
    "# Afficher le graphique\n",
    "plt.tight_layout()\n",
    "plt.show()"
   ]
  },
  {
   "cell_type": "code",
   "execution_count": 16,
   "metadata": {},
   "outputs": [],
   "source": [
    "gf = pd.read_parquet('google_analytics_events_data_anonymized (1).parquet')"
   ]
  },
  {
   "cell_type": "code",
   "execution_count": 17,
   "metadata": {},
   "outputs": [
    {
     "name": "stdout",
     "output_type": "stream",
     "text": [
      "<class 'pandas.core.frame.DataFrame'>\n",
      "RangeIndex: 7384842 entries, 0 to 7384841\n",
      "Data columns (total 8 columns):\n",
      " #   Column           Dtype \n",
      "---  ------           ----- \n",
      " 0   date             int64 \n",
      " 1   time             object\n",
      " 2   user_id          object\n",
      " 3   client_id        object\n",
      " 4   device_category  object\n",
      " 5   page_type        object\n",
      " 6   product_ids      object\n",
      " 7   event_name       object\n",
      "dtypes: int64(1), object(7)\n",
      "memory usage: 450.7+ MB\n"
     ]
    }
   ],
   "source": [
    "gf.info()"
   ]
  },
  {
   "cell_type": "code",
   "execution_count": 18,
   "metadata": {},
   "outputs": [
    {
     "data": {
      "text/html": [
       "<div>\n",
       "<style scoped>\n",
       "    .dataframe tbody tr th:only-of-type {\n",
       "        vertical-align: middle;\n",
       "    }\n",
       "\n",
       "    .dataframe tbody tr th {\n",
       "        vertical-align: top;\n",
       "    }\n",
       "\n",
       "    .dataframe thead th {\n",
       "        text-align: right;\n",
       "    }\n",
       "</style>\n",
       "<table border=\"1\" class=\"dataframe\">\n",
       "  <thead>\n",
       "    <tr style=\"text-align: right;\">\n",
       "      <th></th>\n",
       "      <th>date</th>\n",
       "      <th>time</th>\n",
       "      <th>user_id</th>\n",
       "      <th>client_id</th>\n",
       "      <th>device_category</th>\n",
       "      <th>page_type</th>\n",
       "      <th>product_ids</th>\n",
       "      <th>event_name</th>\n",
       "    </tr>\n",
       "  </thead>\n",
       "  <tbody>\n",
       "    <tr>\n",
       "      <th>0</th>\n",
       "      <td>1</td>\n",
       "      <td>22:00:07.290246</td>\n",
       "      <td>/yDmzkKBxSke3n8BG9ykHw==</td>\n",
       "      <td>e6db74</td>\n",
       "      <td>desktop</td>\n",
       "      <td>Cart</td>\n",
       "      <td>6aaaef4e, f8b83dad, 3ec03cb2, 71c801f2, 81c5948c</td>\n",
       "      <td>view_item_list</td>\n",
       "    </tr>\n",
       "    <tr>\n",
       "      <th>1</th>\n",
       "      <td>1</td>\n",
       "      <td>22:00:08.157687</td>\n",
       "      <td>p28CRQES90lRxwC/3if8Sw==</td>\n",
       "      <td>3933f1</td>\n",
       "      <td>desktop</td>\n",
       "      <td>Product Page</td>\n",
       "      <td>11ba02c7, 516f5635, 45ac4a1a</td>\n",
       "      <td>view_item_list</td>\n",
       "    </tr>\n",
       "    <tr>\n",
       "      <th>2</th>\n",
       "      <td>1</td>\n",
       "      <td>22:00:08.157687</td>\n",
       "      <td>p28CRQES90lRxwC/3if8Sw==</td>\n",
       "      <td>3933f1</td>\n",
       "      <td>desktop</td>\n",
       "      <td>Product Page</td>\n",
       "      <td>cfcc3671, 7372f999, d1c3a3fa</td>\n",
       "      <td>view_item_list</td>\n",
       "    </tr>\n",
       "    <tr>\n",
       "      <th>3</th>\n",
       "      <td>1</td>\n",
       "      <td>22:00:21.386387</td>\n",
       "      <td>/yDmzkKBxSke3n8BG9ykHw==</td>\n",
       "      <td>e6db74</td>\n",
       "      <td>desktop</td>\n",
       "      <td>Cart</td>\n",
       "      <td>f8b83dad, 81c5948c, 71c801f2, 6aaaef4e, 3ec03cb2</td>\n",
       "      <td>view_item_list</td>\n",
       "    </tr>\n",
       "    <tr>\n",
       "      <th>4</th>\n",
       "      <td>1</td>\n",
       "      <td>22:00:24.521211</td>\n",
       "      <td>p28CRQES90lRxwC/3if8Sw==</td>\n",
       "      <td>3933f1</td>\n",
       "      <td>desktop</td>\n",
       "      <td>Product Page</td>\n",
       "      <td>1b6b925c, 04a0ef24, 36adf49b, 38bd8027</td>\n",
       "      <td>view_item_list</td>\n",
       "    </tr>\n",
       "  </tbody>\n",
       "</table>\n",
       "</div>"
      ],
      "text/plain": [
       "   date             time                   user_id client_id device_category  \\\n",
       "0     1  22:00:07.290246  /yDmzkKBxSke3n8BG9ykHw==    e6db74         desktop   \n",
       "1     1  22:00:08.157687  p28CRQES90lRxwC/3if8Sw==    3933f1         desktop   \n",
       "2     1  22:00:08.157687  p28CRQES90lRxwC/3if8Sw==    3933f1         desktop   \n",
       "3     1  22:00:21.386387  /yDmzkKBxSke3n8BG9ykHw==    e6db74         desktop   \n",
       "4     1  22:00:24.521211  p28CRQES90lRxwC/3if8Sw==    3933f1         desktop   \n",
       "\n",
       "      page_type                                       product_ids  \\\n",
       "0          Cart  6aaaef4e, f8b83dad, 3ec03cb2, 71c801f2, 81c5948c   \n",
       "1  Product Page                      11ba02c7, 516f5635, 45ac4a1a   \n",
       "2  Product Page                      cfcc3671, 7372f999, d1c3a3fa   \n",
       "3          Cart  f8b83dad, 81c5948c, 71c801f2, 6aaaef4e, 3ec03cb2   \n",
       "4  Product Page            1b6b925c, 04a0ef24, 36adf49b, 38bd8027   \n",
       "\n",
       "       event_name  \n",
       "0  view_item_list  \n",
       "1  view_item_list  \n",
       "2  view_item_list  \n",
       "3  view_item_list  \n",
       "4  view_item_list  "
      ]
     },
     "execution_count": 18,
     "metadata": {},
     "output_type": "execute_result"
    }
   ],
   "source": [
    "gf.head()"
   ]
  },
  {
   "cell_type": "code",
   "execution_count": 19,
   "metadata": {},
   "outputs": [
    {
     "name": "stdout",
     "output_type": "stream",
     "text": [
      "Distribution des valeurs dans 'device_category' :\n",
      "device_category\n",
      "desktop    7271341\n",
      "mobile      108341\n",
      "tablet        5160\n",
      "Name: count, dtype: int64\n",
      "\n",
      "Distribution des valeurs dans 'page_type' :\n",
      "page_type\n",
      "Product Page                   3547622\n",
      "Search Results                 2630875\n",
      "Cart                            531793\n",
      "Product Category                420930\n",
      "Order Process                    89803\n",
      "Already Bought Product Page      57393\n",
      "Order Confirmation               55154\n",
      "Home                             22413\n",
      "JobList Details Page             11734\n",
      "Quote                            10647\n",
      "Account                           2326\n",
      "Order History                     1439\n",
      "Saved Cart Details                1283\n",
      "Brands                             474\n",
      "Most Ordered Products              318\n",
      "Comparison page                    203\n",
      "Quick Order                        155\n",
      "Backorders                         143\n",
      "JobList Summary Page                57\n",
      "Configurator                        50\n",
      "Shop in shop Main page              13\n",
      "Registration                         8\n",
      "Solutions                            3\n",
      "Shop in shop Segment page            2\n",
      "Promotion                            2\n",
      "Login                                1\n",
      "Store Locator                        1\n",
      "Name: count, dtype: int64\n",
      "\n",
      "Distribution des valeurs dans 'event_name' :\n",
      "event_name\n",
      "view_item_list      6309643\n",
      "view_item            469033\n",
      "select_item          252543\n",
      "add_to_cart          167728\n",
      "begin_checkout        89260\n",
      "purchase              53709\n",
      "remove_from_cart      42926\n",
      "Name: count, dtype: int64\n"
     ]
    }
   ],
   "source": [
    "# Obtenir la distribution des valeurs pour chaque colonne\n",
    "device_category_counts = gf['device_category'].value_counts()\n",
    "page_type_counts = gf['page_type'].value_counts()\n",
    "event_name_counts = gf['event_name'].value_counts()\n",
    "\n",
    "# Afficher les distributions\n",
    "print(\"Distribution des valeurs dans 'device_category' :\")\n",
    "print(device_category_counts)\n",
    "print(\"\\nDistribution des valeurs dans 'page_type' :\")\n",
    "print(page_type_counts)\n",
    "print(\"\\nDistribution des valeurs dans 'event_name' :\")\n",
    "print(event_name_counts)"
   ]
  },
  {
   "cell_type": "code",
   "execution_count": 20,
   "metadata": {},
   "outputs": [],
   "source": [
    "# Identifier la catégorie d'utilisation des dispositifs pour chaque client\n",
    "def device_category_type(devices):\n",
    "    if len(devices) == 1:\n",
    "        if 'desktop' in devices:\n",
    "            return 'desktop_only'\n",
    "        elif 'mobile' in devices or 'tablet' in devices:\n",
    "            return 'mobile_or_tablet_only'\n",
    "    return 'mixed'  # Si le client utilise plusieurs dispositifs\n",
    "\n",
    "# Appliquer la fonction pour déterminer le type de dispositif pour chaque client\n",
    "device_usage_category = gf.groupby('client_id')['device_category'].unique().apply(device_category_type).reset_index(name='device_usage_category')\n",
    "\n",
    "# Ajouter cette feature à la table client_summary\n",
    "client_summary = pd.merge(client_summary, device_usage_category, on='client_id', how='left')\n"
   ]
  },
  {
   "cell_type": "code",
   "execution_count": 21,
   "metadata": {},
   "outputs": [
    {
     "name": "stdout",
     "output_type": "stream",
     "text": [
      "      client_id  total_triplet_count  interaction_triplet_count  \\\n",
      "0        000195                   59                        0.0   \n",
      "1        0002b0                   70                        1.0   \n",
      "2        000973                  130                        1.0   \n",
      "3        0013cd                   84                        2.0   \n",
      "4        0017ab                   18                        0.0   \n",
      "...         ...                  ...                        ...   \n",
      "23657    fff808                   78                        0.0   \n",
      "23658    fff8e3                   15                        0.0   \n",
      "23659    fffb11                   20                        0.0   \n",
      "23660    fffc3d                  103                        0.0   \n",
      "23661    ffff34                   90                        2.0   \n",
      "\n",
      "       no_interaction_triplet_count  interaction_rate device_usage_category  \n",
      "0                              59.0          0.000000          desktop_only  \n",
      "1                              69.0          0.014286          desktop_only  \n",
      "2                             129.0          0.007692          desktop_only  \n",
      "3                              82.0          0.023810          desktop_only  \n",
      "4                              18.0          0.000000          desktop_only  \n",
      "...                             ...               ...                   ...  \n",
      "23657                          78.0          0.000000          desktop_only  \n",
      "23658                          15.0          0.000000          desktop_only  \n",
      "23659                          20.0          0.000000          desktop_only  \n",
      "23660                         103.0          0.000000          desktop_only  \n",
      "23661                          88.0          0.022222                 mixed  \n",
      "\n",
      "[23662 rows x 6 columns]\n"
     ]
    }
   ],
   "source": [
    "print(client_summary)"
   ]
  },
  {
   "cell_type": "code",
   "execution_count": 22,
   "metadata": {},
   "outputs": [
    {
     "name": "stdout",
     "output_type": "stream",
     "text": [
      "device_usage_category\n",
      "desktop_only             19839\n",
      "mixed                     3571\n",
      "mobile_or_tablet_only      252\n",
      "Name: count, dtype: int64\n"
     ]
    }
   ],
   "source": [
    "device = client_summary['device_usage_category'].value_counts()\n",
    "print(device)"
   ]
  },
  {
   "cell_type": "code",
   "execution_count": 23,
   "metadata": {},
   "outputs": [],
   "source": [
    "# Supprimer les colonnes existantes purchase_activity_score et purchase_activity_rate dans client_summary\n",
    "client_summary.drop(columns=['purchase_activity_score', 'purchase_activity_rate'], inplace=True, errors='ignore')\n",
    "\n",
    "# Calcul du score d'activité d'achat divisé par le total_triplet_count\n",
    "purchase_activity_score = gf[gf['event_name'].isin(['purchase'])].groupby('client_id').size().reset_index(name='purchase_activity_score')\n",
    "\n",
    "# Joindre le score d'activité d'achat avec le client_summary en ajoutant des suffixes pour éviter les conflits de noms\n",
    "client_summary = pd.merge(client_summary, purchase_activity_score, on='client_id', how='left', suffixes=('_summary', '_score'))\n",
    "\n",
    "# Diviser le score par le total_triplet_count pour obtenir le taux\n",
    "client_summary['purchase_activity_rate'] = client_summary['purchase_activity_score'] / client_summary['total_triplet_count']\n",
    "\n",
    "# Remplir les valeurs manquantes de purchase_activity_score par 0 si nécessaire\n",
    "client_summary['purchase_activity_score'] = client_summary['purchase_activity_score'].fillna(0)\n",
    "client_summary['purchase_activity_rate'] = client_summary['purchase_activity_rate'].fillna(0)\n",
    "\n"
   ]
  },
  {
   "cell_type": "code",
   "execution_count": 24,
   "metadata": {},
   "outputs": [
    {
     "name": "stdout",
     "output_type": "stream",
     "text": [
      "purchase_activity_rate\n",
      "0.000000    11212\n",
      "0.142857      148\n",
      "0.166667      145\n",
      "0.125000      141\n",
      "0.111111      110\n",
      "            ...  \n",
      "0.017742        1\n",
      "0.026078        1\n",
      "0.005231        1\n",
      "0.555556        1\n",
      "0.006403        1\n",
      "Name: count, Length: 3236, dtype: int64\n"
     ]
    }
   ],
   "source": [
    "act = client_summary['purchase_activity_rate'].value_counts()\n",
    "print(act)"
   ]
  },
  {
   "cell_type": "code",
   "execution_count": 25,
   "metadata": {},
   "outputs": [
    {
     "name": "stdout",
     "output_type": "stream",
     "text": [
      "        date             time                   datetime\n",
      "0 2023-01-01  22:00:07.290246 2023-01-01 22:00:07.290246\n",
      "1 2023-01-01  22:00:08.157687 2023-01-01 22:00:08.157687\n",
      "2 2023-01-01  22:00:08.157687 2023-01-01 22:00:08.157687\n",
      "3 2023-01-01  22:00:21.386387 2023-01-01 22:00:21.386387\n",
      "4 2023-01-01  22:00:24.521211 2023-01-01 22:00:24.521211\n"
     ]
    }
   ],
   "source": [
    "# Si 'date' représente un jour du mois (1-30), vous pouvez l'ajouter à une date de référence\n",
    "# Exemple : Transformer 1 en 2023-01-01, 2 en 2023-01-02, etc.\n",
    "gf['date'] = pd.to_datetime('2023-01-' + gf['date'].astype(str), format='%Y-%m-%d')\n",
    "\n",
    "# Convertir les colonnes date et time en une seule colonne datetime\n",
    "gf['datetime'] = pd.to_datetime(gf['date'].astype(str) + ' ' + gf['time'], errors='coerce')\n",
    "\n",
    "# Vérifier si la conversion a réussi\n",
    "print(gf[['date', 'time', 'datetime']].head())"
   ]
  },
  {
   "cell_type": "code",
   "execution_count": 26,
   "metadata": {},
   "outputs": [
    {
     "name": "stderr",
     "output_type": "stream",
     "text": [
      "C:\\Users\\simon\\AppData\\Local\\Temp\\ipykernel_89656\\3396166099.py:8: FutureWarning: A value is trying to be set on a copy of a DataFrame or Series through chained assignment using an inplace method.\n",
      "The behavior will change in pandas 3.0. This inplace method will never work because the intermediate object on which we are setting values always behaves as a copy.\n",
      "\n",
      "For example, when doing 'df[col].method(value, inplace=True)', try using 'df.method({col: value}, inplace=True)' or df[col] = df[col].method(value) instead, to perform the operation inplace on the original object.\n",
      "\n",
      "\n",
      "  client_summary['average_time_between_searches'].fillna(0, inplace=True)\n"
     ]
    }
   ],
   "source": [
    "# Calculer la différence de temps entre les recherches consécutives pour chaque client\n",
    "gf['time_diff'] = gf.groupby('client_id')['datetime'].diff().dt.total_seconds()\n",
    "\n",
    "# Calculer le temps moyen entre les recherches pour chaque client\n",
    "client_summary['average_time_between_searches'] = gf.groupby('client_id')['time_diff'].mean().reset_index(name='average_time_between_searches')['average_time_between_searches']\n",
    "\n",
    "# Remplir les valeurs manquantes par 0 (si nécessaire)\n",
    "client_summary['average_time_between_searches'].fillna(0, inplace=True)\n",
    "client_summary['average_time_between_searches_days'] = client_summary['average_time_between_searches'] / 86400"
   ]
  },
  {
   "cell_type": "code",
   "execution_count": 27,
   "metadata": {},
   "outputs": [
    {
     "name": "stdout",
     "output_type": "stream",
     "text": [
      "average_time_between_searches_days\n",
      "0.000000    139\n",
      "0.329478      1\n",
      "0.073067      1\n",
      "0.010445      1\n",
      "0.030222      1\n",
      "           ... \n",
      "0.366342      1\n",
      "0.009430      1\n",
      "0.633643      1\n",
      "0.312975      1\n",
      "0.148099      1\n",
      "Name: count, Length: 23524, dtype: int64\n"
     ]
    }
   ],
   "source": [
    "av = client_summary['average_time_between_searches_days'].value_counts()\n",
    "print(av)"
   ]
  },
  {
   "cell_type": "code",
   "execution_count": 28,
   "metadata": {},
   "outputs": [],
   "source": [
    "pr = pd.read_parquet('products_data_anonymized.parquet')"
   ]
  },
  {
   "cell_type": "code",
   "execution_count": 29,
   "metadata": {},
   "outputs": [
    {
     "data": {
      "text/html": [
       "<div>\n",
       "<style scoped>\n",
       "    .dataframe tbody tr th:only-of-type {\n",
       "        vertical-align: middle;\n",
       "    }\n",
       "\n",
       "    .dataframe tbody tr th {\n",
       "        vertical-align: top;\n",
       "    }\n",
       "\n",
       "    .dataframe thead th {\n",
       "        text-align: right;\n",
       "    }\n",
       "</style>\n",
       "<table border=\"1\" class=\"dataframe\">\n",
       "  <thead>\n",
       "    <tr style=\"text-align: right;\">\n",
       "      <th></th>\n",
       "      <th>product_id</th>\n",
       "      <th>prd_long_description</th>\n",
       "      <th>prd_short_description</th>\n",
       "      <th>prd_title</th>\n",
       "      <th>brand_code</th>\n",
       "      <th>brand_name</th>\n",
       "      <th>prd_category_1</th>\n",
       "      <th>prd_category_2</th>\n",
       "      <th>prd_category_3</th>\n",
       "      <th>prd_category_4</th>\n",
       "      <th>has_image</th>\n",
       "      <th>prd_classification</th>\n",
       "    </tr>\n",
       "  </thead>\n",
       "  <tbody>\n",
       "    <tr>\n",
       "      <th>0</th>\n",
       "      <td>a5f0e428</td>\n",
       "      <td>Cl-d&lt;br/&gt;&lt;br/&gt;Cosses colorées à deux trous et ...</td>\n",
       "      <td>Cosse non isolée code couleur rouge 350 MCM 2 ...</td>\n",
       "      <td>Cosse non isolée code couleur rouge 350 MCM 2 ...</td>\n",
       "      <td>CMB</td>\n",
       "      <td>Cembre</td>\n",
       "      <td>PROCESS INDUSTRIEL</td>\n",
       "      <td>CONNECTIQUE ET RACCORDEMENT</td>\n",
       "      <td>RACCORD ET COSSE</td>\n",
       "      <td>Raccord, Cosse</td>\n",
       "      <td>0.0</td>\n",
       "      <td>Cosse tubulaire pour conducteur en cuivre</td>\n",
       "    </tr>\n",
       "    <tr>\n",
       "      <th>1</th>\n",
       "      <td>6eb6d804</td>\n",
       "      <td>Application : &gt; Permet le raccordement de 1 à ...</td>\n",
       "      <td>Collecteur raccord d'étage galvanisé - Diamètr...</td>\n",
       "      <td>Collecteur raccord d'étage galvanisé - Diamètr...</td>\n",
       "      <td>ALD</td>\n",
       "      <td>Aldes</td>\n",
       "      <td>CHAUFFAGE ELEC, CLIM ET VENTILATION</td>\n",
       "      <td>VENTILATION</td>\n",
       "      <td>CONDUIT DE VENTILATION ET ACCESSOIRES</td>\n",
       "      <td>CONDUIT DE VENTILATION ET ACCESSOIRES</td>\n",
       "      <td>1.0</td>\n",
       "      <td>Raccord T-Y, gaine de ventilation ronde</td>\n",
       "    </tr>\n",
       "    <tr>\n",
       "      <th>2</th>\n",
       "      <td>7f11dead</td>\n",
       "      <td>La boîte Mini-Com® de fixation en saillie peut...</td>\n",
       "      <td>Surface Mount Box, 4 Port, Off White</td>\n",
       "      <td>Surface Mount Box, 4 Port, Off White</td>\n",
       "      <td>PUI</td>\n",
       "      <td>Panduit Solutions Réseaux</td>\n",
       "      <td>INFRASTRUCTURE ET RESEAU</td>\n",
       "      <td>PRODUIT CUIVRE</td>\n",
       "      <td>CONNECTEUR ET PRISE AUTRE POUR RESEAU</td>\n",
       "      <td>Connecteur et Prise autre pour réseau</td>\n",
       "      <td>1.0</td>\n",
       "      <td>Boîtier en saillie pour de l'appareillage</td>\n",
       "    </tr>\n",
       "    <tr>\n",
       "      <th>3</th>\n",
       "      <td>a0e11db0</td>\n",
       "      <td>Rcc</td>\n",
       "      <td>RCC 500/450 - réduction conique concentrique d...</td>\n",
       "      <td>RCC 500/450 - réduction conique concentrique d...</td>\n",
       "      <td>ELG</td>\n",
       "      <td>Atlantic Climatisation &amp; Ventilation</td>\n",
       "      <td>CHAUFFAGE ELEC, CLIM ET VENTILATION</td>\n",
       "      <td>VENTILATION</td>\n",
       "      <td>CONDUIT DE VENTILATION ET ACCESSOIRES</td>\n",
       "      <td>CONDUIT DE VENTILATION ET ACCESSOIRES</td>\n",
       "      <td>1.0</td>\n",
       "      <td>Cône d'aspiration, gaine de ventilation ronde</td>\n",
       "    </tr>\n",
       "    <tr>\n",
       "      <th>4</th>\n",
       "      <td>55c32fba</td>\n",
       "      <td>Luminaire profilé LED de grande qualité, en Hy...</td>\n",
       "      <td>pure3 green suspension noir sat. 4222x70mmLED ...</td>\n",
       "      <td>pure3 green suspension noir sat. 4222x70mm LED...</td>\n",
       "      <td>AH4</td>\n",
       "      <td>Planlicht</td>\n",
       "      <td>ECLAIRAGE</td>\n",
       "      <td>LUMINAIRE D'INTERIEUR DECORATIF</td>\n",
       "      <td>SUSPENSION D'ECLAIRAGE DECORATIF</td>\n",
       "      <td>SUSPENSION D'ECLAIRAGE DECORATIF LED INTEGREE</td>\n",
       "      <td>1.0</td>\n",
       "      <td>None</td>\n",
       "    </tr>\n",
       "  </tbody>\n",
       "</table>\n",
       "</div>"
      ],
      "text/plain": [
       "  product_id                               prd_long_description  \\\n",
       "0   a5f0e428  Cl-d<br/><br/>Cosses colorées à deux trous et ...   \n",
       "1   6eb6d804  Application : > Permet le raccordement de 1 à ...   \n",
       "2   7f11dead  La boîte Mini-Com® de fixation en saillie peut...   \n",
       "3   a0e11db0                                                Rcc   \n",
       "4   55c32fba  Luminaire profilé LED de grande qualité, en Hy...   \n",
       "\n",
       "                               prd_short_description  \\\n",
       "0  Cosse non isolée code couleur rouge 350 MCM 2 ...   \n",
       "1  Collecteur raccord d'étage galvanisé - Diamètr...   \n",
       "2               Surface Mount Box, 4 Port, Off White   \n",
       "3  RCC 500/450 - réduction conique concentrique d...   \n",
       "4  pure3 green suspension noir sat. 4222x70mmLED ...   \n",
       "\n",
       "                                           prd_title brand_code  \\\n",
       "0  Cosse non isolée code couleur rouge 350 MCM 2 ...        CMB   \n",
       "1  Collecteur raccord d'étage galvanisé - Diamètr...        ALD   \n",
       "2               Surface Mount Box, 4 Port, Off White        PUI   \n",
       "3  RCC 500/450 - réduction conique concentrique d...        ELG   \n",
       "4  pure3 green suspension noir sat. 4222x70mm LED...        AH4   \n",
       "\n",
       "                             brand_name                       prd_category_1  \\\n",
       "0                                Cembre                   PROCESS INDUSTRIEL   \n",
       "1                                 Aldes  CHAUFFAGE ELEC, CLIM ET VENTILATION   \n",
       "2             Panduit Solutions Réseaux             INFRASTRUCTURE ET RESEAU   \n",
       "3  Atlantic Climatisation & Ventilation  CHAUFFAGE ELEC, CLIM ET VENTILATION   \n",
       "4                             Planlicht                            ECLAIRAGE   \n",
       "\n",
       "                    prd_category_2                         prd_category_3  \\\n",
       "0      CONNECTIQUE ET RACCORDEMENT                       RACCORD ET COSSE   \n",
       "1                      VENTILATION  CONDUIT DE VENTILATION ET ACCESSOIRES   \n",
       "2                   PRODUIT CUIVRE  CONNECTEUR ET PRISE AUTRE POUR RESEAU   \n",
       "3                      VENTILATION  CONDUIT DE VENTILATION ET ACCESSOIRES   \n",
       "4  LUMINAIRE D'INTERIEUR DECORATIF       SUSPENSION D'ECLAIRAGE DECORATIF   \n",
       "\n",
       "                                  prd_category_4  has_image  \\\n",
       "0                                 Raccord, Cosse        0.0   \n",
       "1          CONDUIT DE VENTILATION ET ACCESSOIRES        1.0   \n",
       "2          Connecteur et Prise autre pour réseau        1.0   \n",
       "3          CONDUIT DE VENTILATION ET ACCESSOIRES        1.0   \n",
       "4  SUSPENSION D'ECLAIRAGE DECORATIF LED INTEGREE        1.0   \n",
       "\n",
       "                              prd_classification  \n",
       "0      Cosse tubulaire pour conducteur en cuivre  \n",
       "1        Raccord T-Y, gaine de ventilation ronde  \n",
       "2      Boîtier en saillie pour de l'appareillage  \n",
       "3  Cône d'aspiration, gaine de ventilation ronde  \n",
       "4                                           None  "
      ]
     },
     "execution_count": 29,
     "metadata": {},
     "output_type": "execute_result"
    }
   ],
   "source": [
    "pr.head()"
   ]
  },
  {
   "cell_type": "code",
   "execution_count": 30,
   "metadata": {},
   "outputs": [],
   "source": [
    "# Joindre la table df avec la table pr sur product_id pour obtenir prd_category_4\n",
    "df_with_category = pd.merge(df, pr, on='product_id', how='left')\n",
    "\n",
    "# Compter le nombre de prd_category_4 distinctes pour chaque client_id\n",
    "client_category_count = df_with_category.groupby('client_id')['prd_category_4'].nunique().reset_index(name='unique_prd_category_count')\n",
    "\n",
    "# Joindre cette feature à la table client_summary\n",
    "client_summary = pd.merge(client_summary, client_category_count, on='client_id', how='left')\n"
   ]
  },
  {
   "cell_type": "code",
   "execution_count": 31,
   "metadata": {},
   "outputs": [
    {
     "data": {
      "text/html": [
       "<div>\n",
       "<style scoped>\n",
       "    .dataframe tbody tr th:only-of-type {\n",
       "        vertical-align: middle;\n",
       "    }\n",
       "\n",
       "    .dataframe tbody tr th {\n",
       "        vertical-align: top;\n",
       "    }\n",
       "\n",
       "    .dataframe thead th {\n",
       "        text-align: right;\n",
       "    }\n",
       "</style>\n",
       "<table border=\"1\" class=\"dataframe\">\n",
       "  <thead>\n",
       "    <tr style=\"text-align: right;\">\n",
       "      <th></th>\n",
       "      <th>client_id</th>\n",
       "      <th>total_triplet_count</th>\n",
       "      <th>interaction_triplet_count</th>\n",
       "      <th>no_interaction_triplet_count</th>\n",
       "      <th>interaction_rate</th>\n",
       "      <th>device_usage_category</th>\n",
       "      <th>purchase_activity_score</th>\n",
       "      <th>purchase_activity_rate</th>\n",
       "      <th>average_time_between_searches</th>\n",
       "      <th>average_time_between_searches_days</th>\n",
       "      <th>unique_prd_category_count</th>\n",
       "    </tr>\n",
       "  </thead>\n",
       "  <tbody>\n",
       "    <tr>\n",
       "      <th>0</th>\n",
       "      <td>000195</td>\n",
       "      <td>59</td>\n",
       "      <td>0.0</td>\n",
       "      <td>59.0</td>\n",
       "      <td>0.000000</td>\n",
       "      <td>desktop_only</td>\n",
       "      <td>1.0</td>\n",
       "      <td>0.016949</td>\n",
       "      <td>28466.903233</td>\n",
       "      <td>0.329478</td>\n",
       "      <td>15</td>\n",
       "    </tr>\n",
       "    <tr>\n",
       "      <th>1</th>\n",
       "      <td>0002b0</td>\n",
       "      <td>70</td>\n",
       "      <td>1.0</td>\n",
       "      <td>69.0</td>\n",
       "      <td>0.014286</td>\n",
       "      <td>desktop_only</td>\n",
       "      <td>0.0</td>\n",
       "      <td>0.000000</td>\n",
       "      <td>22.120727</td>\n",
       "      <td>0.000256</td>\n",
       "      <td>13</td>\n",
       "    </tr>\n",
       "    <tr>\n",
       "      <th>2</th>\n",
       "      <td>000973</td>\n",
       "      <td>130</td>\n",
       "      <td>1.0</td>\n",
       "      <td>129.0</td>\n",
       "      <td>0.007692</td>\n",
       "      <td>desktop_only</td>\n",
       "      <td>0.0</td>\n",
       "      <td>0.000000</td>\n",
       "      <td>3497.635062</td>\n",
       "      <td>0.040482</td>\n",
       "      <td>42</td>\n",
       "    </tr>\n",
       "    <tr>\n",
       "      <th>3</th>\n",
       "      <td>0013cd</td>\n",
       "      <td>84</td>\n",
       "      <td>2.0</td>\n",
       "      <td>82.0</td>\n",
       "      <td>0.023810</td>\n",
       "      <td>desktop_only</td>\n",
       "      <td>0.0</td>\n",
       "      <td>0.000000</td>\n",
       "      <td>18817.541857</td>\n",
       "      <td>0.217796</td>\n",
       "      <td>21</td>\n",
       "    </tr>\n",
       "    <tr>\n",
       "      <th>4</th>\n",
       "      <td>0017ab</td>\n",
       "      <td>18</td>\n",
       "      <td>0.0</td>\n",
       "      <td>18.0</td>\n",
       "      <td>0.000000</td>\n",
       "      <td>desktop_only</td>\n",
       "      <td>0.0</td>\n",
       "      <td>0.000000</td>\n",
       "      <td>98955.091331</td>\n",
       "      <td>1.145314</td>\n",
       "      <td>1</td>\n",
       "    </tr>\n",
       "  </tbody>\n",
       "</table>\n",
       "</div>"
      ],
      "text/plain": [
       "  client_id  total_triplet_count  interaction_triplet_count  \\\n",
       "0    000195                   59                        0.0   \n",
       "1    0002b0                   70                        1.0   \n",
       "2    000973                  130                        1.0   \n",
       "3    0013cd                   84                        2.0   \n",
       "4    0017ab                   18                        0.0   \n",
       "\n",
       "   no_interaction_triplet_count  interaction_rate device_usage_category  \\\n",
       "0                          59.0          0.000000          desktop_only   \n",
       "1                          69.0          0.014286          desktop_only   \n",
       "2                         129.0          0.007692          desktop_only   \n",
       "3                          82.0          0.023810          desktop_only   \n",
       "4                          18.0          0.000000          desktop_only   \n",
       "\n",
       "   purchase_activity_score  purchase_activity_rate  \\\n",
       "0                      1.0                0.016949   \n",
       "1                      0.0                0.000000   \n",
       "2                      0.0                0.000000   \n",
       "3                      0.0                0.000000   \n",
       "4                      0.0                0.000000   \n",
       "\n",
       "   average_time_between_searches  average_time_between_searches_days  \\\n",
       "0                   28466.903233                            0.329478   \n",
       "1                      22.120727                            0.000256   \n",
       "2                    3497.635062                            0.040482   \n",
       "3                   18817.541857                            0.217796   \n",
       "4                   98955.091331                            1.145314   \n",
       "\n",
       "   unique_prd_category_count  \n",
       "0                         15  \n",
       "1                         13  \n",
       "2                         42  \n",
       "3                         21  \n",
       "4                          1  "
      ]
     },
     "execution_count": 31,
     "metadata": {},
     "output_type": "execute_result"
    }
   ],
   "source": [
    "client_summary.head()"
   ]
  },
  {
   "cell_type": "code",
   "execution_count": 32,
   "metadata": {},
   "outputs": [
    {
     "name": "stdout",
     "output_type": "stream",
     "text": [
      "unique_prd_category_count\n",
      "4      1031\n",
      "2      1015\n",
      "3       993\n",
      "1       989\n",
      "5       872\n",
      "       ... \n",
      "364       1\n",
      "372       1\n",
      "223       1\n",
      "571       1\n",
      "298       1\n",
      "Name: count, Length: 347, dtype: int64\n"
     ]
    }
   ],
   "source": [
    "cat = client_summary['unique_prd_category_count'].value_counts()\n",
    "print(cat)"
   ]
  },
  {
   "cell_type": "code",
   "execution_count": 33,
   "metadata": {},
   "outputs": [
    {
     "data": {
      "image/png": "[encoded data removed]",
      "text/plain": [
       "<Figure size 800x600 with 1 Axes>"
      ]
     },
     "metadata": {},
     "output_type": "display_data"
    }
   ],
   "source": [
    "# Afficher la distribution de la colonne 'unique_prd_category_count' sous forme d'histogramme\n",
    "plt.figure(figsize=(8, 6))\n",
    "plt.hist(client_summary['unique_prd_category_count'], bins=50, edgecolor='black', color='skyblue')\n",
    "\n",
    "# Ajouter des titres et des labels\n",
    "plt.title('Distribution des catégories de produits uniques par client')\n",
    "plt.xlabel('Nombre de catégories de produits uniques')\n",
    "plt.ylabel('Fréquence')\n",
    "\n",
    "# Afficher le graphique\n",
    "plt.tight_layout()\n",
    "plt.show()"
   ]
  },
  {
   "cell_type": "code",
   "execution_count": 34,
   "metadata": {},
   "outputs": [
    {
     "name": "stdout",
     "output_type": "stream",
     "text": [
      "  client_id  unique_prd_category_count prd_category_bin\n",
      "0    000195                         15            11-20\n",
      "1    0002b0                         13            11-20\n",
      "2    000973                         42            41-50\n",
      "3    0013cd                         21            21-30\n",
      "4    0017ab                          1             1-10\n"
     ]
    }
   ],
   "source": [
    "# Définir les intervalles\n",
    "bins = [1, 10, 20, 30, 40, 50, 75, 100, 150, 200, 300, 400, 500, 600]\n",
    "\n",
    "# Définir les labels pour chaque intervalle\n",
    "labels = ['1-10', '11-20', '21-30', '31-40', '41-50', '51-75', '76-100', '101-150', '151-200', '201-300', '301-400', '401-500', '501-600']\n",
    "\n",
    "# Appliquer le binning sur la colonne 'unique_prd_category_count'\n",
    "client_summary['prd_category_bin'] = pd.cut(client_summary['unique_prd_category_count'], bins=bins, labels=labels, right=True, include_lowest=True)\n",
    "\n",
    "# Afficher les résultats\n",
    "print(client_summary[['client_id', 'unique_prd_category_count', 'prd_category_bin']].head())\n"
   ]
  },
  {
   "cell_type": "code",
   "execution_count": 35,
   "metadata": {},
   "outputs": [
    {
     "name": "stdout",
     "output_type": "stream",
     "text": [
      "prd_category_bin\n",
      "1-10       8500\n",
      "11-20      4571\n",
      "21-30      2677\n",
      "51-75      1956\n",
      "31-40      1799\n",
      "41-50      1239\n",
      "101-150    1033\n",
      "76-100      976\n",
      "151-200     473\n",
      "201-300     354\n",
      "301-400      75\n",
      "401-500       6\n",
      "501-600       3\n",
      "Name: count, dtype: int64\n"
     ]
    }
   ],
   "source": [
    "b = client_summary['prd_category_bin'].value_counts()\n",
    "print(b)"
   ]
  },
  {
   "cell_type": "code",
   "execution_count": 36,
   "metadata": {},
   "outputs": [
    {
     "name": "stdout",
     "output_type": "stream",
     "text": [
      "<class 'pandas.core.frame.DataFrame'>\n",
      "RangeIndex: 23662 entries, 0 to 23661\n",
      "Data columns (total 12 columns):\n",
      " #   Column                              Non-Null Count  Dtype   \n",
      "---  ------                              --------------  -----   \n",
      " 0   client_id                           23662 non-null  object  \n",
      " 1   total_triplet_count                 23662 non-null  int64   \n",
      " 2   interaction_triplet_count           23662 non-null  float64 \n",
      " 3   no_interaction_triplet_count        23662 non-null  float64 \n",
      " 4   interaction_rate                    23662 non-null  float64 \n",
      " 5   device_usage_category               23662 non-null  object  \n",
      " 6   purchase_activity_score             23662 non-null  float64 \n",
      " 7   purchase_activity_rate              23662 non-null  float64 \n",
      " 8   average_time_between_searches       23662 non-null  float64 \n",
      " 9   average_time_between_searches_days  23662 non-null  float64 \n",
      " 10  unique_prd_category_count           23662 non-null  int64   \n",
      " 11  prd_category_bin                    23662 non-null  category\n",
      "dtypes: category(1), float64(7), int64(2), object(2)\n",
      "memory usage: 2.0+ MB\n"
     ]
    }
   ],
   "source": [
    "client_summary.info()"
   ]
  },
  {
   "cell_type": "code",
   "execution_count": 37,
   "metadata": {},
   "outputs": [
    {
     "name": "stdout",
     "output_type": "stream",
     "text": [
      "  client_id  avg_products_seen\n",
      "0    000195          14.666667\n",
      "1    0002b0           7.111111\n",
      "2    000973           8.133333\n",
      "3    0013cd           7.625000\n",
      "4    0017ab           6.000000\n"
     ]
    }
   ],
   "source": [
    "# Effectuer la jointure entre client_summary et average_products_seen_per_client sur client_id\n",
    "client_summary = pd.merge(client_summary, average_products_seen_per_client[['client_id', 'avg_products_seen']], on='client_id', how='left')\n",
    "\n",
    "# Vérifier le résultat\n",
    "print(client_summary[['client_id', 'avg_products_seen']].head())\n"
   ]
  },
  {
   "cell_type": "code",
   "execution_count": 38,
   "metadata": {},
   "outputs": [],
   "source": [
    "# Sélectionner les colonnes spécifiées\n",
    "columns_to_export = ['client_id', 'interaction_rate', 'device_usage_category', 'average_time_between_searches_days', 'prd_category_bin', 'purchase_activity_rate', 'avg_products_seen']\n",
    "\n",
    "# Créer un DataFrame avec les colonnes sélectionnées\n",
    "client_summary_selected = client_summary[columns_to_export]\n",
    "\n",
    "# Enregistrer le DataFrame sous forme de fichier CSV\n",
    "client_summary_selected.to_csv('client_summary_segmentation.csv', index=False)\n"
   ]
  },
  {
   "cell_type": "code",
   "execution_count": null,
   "metadata": {},
   "outputs": [],
   "source": []
  },
  {
   "cell_type": "code",
   "execution_count": null,
   "metadata": {},
   "outputs": [],
   "source": []
  }
 ],
 "metadata": {
  "kernelspec": {
   "display_name": "Python 3 (ipykernel)",
   "language": "python",
   "name": "python3"
  },
  "language_info": {
   "codemirror_mode": {
    "name": "ipython",
    "version": 3
   },
   "file_extension": ".py",
   "mimetype": "text/x-python",
   "name": "python",
   "nbconvert_exporter": "python",
   "pygments_lexer": "ipython3",
   "version": "3.9.20"
  }
 },
 "nbformat": 4,
 "nbformat_minor": 4
}
